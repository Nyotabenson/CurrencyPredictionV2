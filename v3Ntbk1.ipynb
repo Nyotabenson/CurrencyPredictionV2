{
 "cells": [
  {
   "cell_type": "code",
   "execution_count": 2,
   "id": "4d2e6605-99ac-407e-8cea-fea6895bd279",
   "metadata": {},
   "outputs": [],
   "source": [
    "import pandas as pd\n",
    "import numpy as np\n",
    "import matplotlib.pyplot as plt\n",
    "\n",
    "from sklearn.model_selection import train_test_split"
   ]
  },
  {
   "cell_type": "code",
   "execution_count": 10,
   "id": "b0449c0e-7bd6-48b2-8d8a-7c212880ce25",
   "metadata": {},
   "outputs": [],
   "source": [
    "data = pd.read_csv(\"Interest_rate_&_FX_reserves.csv\")"
   ]
  },
  {
   "cell_type": "code",
   "execution_count": null,
   "id": "68b4ed62-58c5-4da7-b845-b1fbdaf03338",
   "metadata": {},
   "outputs": [],
   "source": []
  },
  {
   "cell_type": "code",
   "execution_count": 11,
   "id": "5df3f745-073f-4f6d-b582-99def4e7836f",
   "metadata": {},
   "outputs": [
    {
     "data": {
      "text/html": [
       "<div>\n",
       "<style scoped>\n",
       "    .dataframe tbody tr th:only-of-type {\n",
       "        vertical-align: middle;\n",
       "    }\n",
       "\n",
       "    .dataframe tbody tr th {\n",
       "        vertical-align: top;\n",
       "    }\n",
       "\n",
       "    .dataframe thead th {\n",
       "        text-align: right;\n",
       "    }\n",
       "</style>\n",
       "<table border=\"1\" class=\"dataframe\">\n",
       "  <thead>\n",
       "    <tr style=\"text-align: right;\">\n",
       "      <th></th>\n",
       "      <th>Date</th>\n",
       "      <th>Mean-value</th>\n",
       "      <th>Interest-rate</th>\n",
       "      <th>Month</th>\n",
       "      <th>Year</th>\n",
       "      <th>Quarter</th>\n",
       "      <th>Week-of-year</th>\n",
       "      <th>Week-of-month</th>\n",
       "      <th>Day-of-week</th>\n",
       "      <th>Day-of-year</th>\n",
       "      <th>election-year</th>\n",
       "      <th>kenya_reserves</th>\n",
       "      <th>Import-Cover-in-Months</th>\n",
       "    </tr>\n",
       "  </thead>\n",
       "  <tbody>\n",
       "    <tr>\n",
       "      <th>0</th>\n",
       "      <td>10/11/2016</td>\n",
       "      <td>101.28</td>\n",
       "      <td>0.69</td>\n",
       "      <td>10</td>\n",
       "      <td>2016</td>\n",
       "      <td>4</td>\n",
       "      <td>42</td>\n",
       "      <td>3</td>\n",
       "      <td>2</td>\n",
       "      <td>285</td>\n",
       "      <td>0</td>\n",
       "      <td>NaN</td>\n",
       "      <td>NaN</td>\n",
       "    </tr>\n",
       "    <tr>\n",
       "      <th>1</th>\n",
       "      <td>10/13/2016</td>\n",
       "      <td>101.30</td>\n",
       "      <td>0.66</td>\n",
       "      <td>10</td>\n",
       "      <td>2016</td>\n",
       "      <td>4</td>\n",
       "      <td>42</td>\n",
       "      <td>3</td>\n",
       "      <td>4</td>\n",
       "      <td>287</td>\n",
       "      <td>0</td>\n",
       "      <td>NaN</td>\n",
       "      <td>NaN</td>\n",
       "    </tr>\n",
       "    <tr>\n",
       "      <th>2</th>\n",
       "      <td>10/13/2016</td>\n",
       "      <td>101.30</td>\n",
       "      <td>0.66</td>\n",
       "      <td>10</td>\n",
       "      <td>2016</td>\n",
       "      <td>4</td>\n",
       "      <td>42</td>\n",
       "      <td>3</td>\n",
       "      <td>4</td>\n",
       "      <td>287</td>\n",
       "      <td>0</td>\n",
       "      <td>NaN</td>\n",
       "      <td>NaN</td>\n",
       "    </tr>\n",
       "  </tbody>\n",
       "</table>\n",
       "</div>"
      ],
      "text/plain": [
       "         Date  Mean-value  Interest-rate  Month  Year  Quarter  Week-of-year  \\\n",
       "0  10/11/2016      101.28           0.69     10  2016        4            42   \n",
       "1  10/13/2016      101.30           0.66     10  2016        4            42   \n",
       "2  10/13/2016      101.30           0.66     10  2016        4            42   \n",
       "\n",
       "   Week-of-month  Day-of-week  Day-of-year  election-year  kenya_reserves  \\\n",
       "0              3            2          285              0             NaN   \n",
       "1              3            4          287              0             NaN   \n",
       "2              3            4          287              0             NaN   \n",
       "\n",
       "   Import-Cover-in-Months  \n",
       "0                     NaN  \n",
       "1                     NaN  \n",
       "2                     NaN  "
      ]
     },
     "execution_count": 11,
     "metadata": {},
     "output_type": "execute_result"
    }
   ],
   "source": [
    "data.head(3)"
   ]
  },
  {
   "cell_type": "code",
   "execution_count": 12,
   "id": "44632e7f-ba96-4e6d-8235-7cb1e605d0fe",
   "metadata": {},
   "outputs": [],
   "source": [
    "#adding the US year of election\n",
    "\n",
    "data[\"US_election\"] = np.where(data[\"Year\"].isin([2024, 2020, 2016]), 1, 0)"
   ]
  },
  {
   "cell_type": "code",
   "execution_count": 13,
   "id": "755aeb8d-8ee7-414e-b245-e3f0a9d0f983",
   "metadata": {},
   "outputs": [
    {
     "data": {
      "text/html": [
       "<div>\n",
       "<style scoped>\n",
       "    .dataframe tbody tr th:only-of-type {\n",
       "        vertical-align: middle;\n",
       "    }\n",
       "\n",
       "    .dataframe tbody tr th {\n",
       "        vertical-align: top;\n",
       "    }\n",
       "\n",
       "    .dataframe thead th {\n",
       "        text-align: right;\n",
       "    }\n",
       "</style>\n",
       "<table border=\"1\" class=\"dataframe\">\n",
       "  <thead>\n",
       "    <tr style=\"text-align: right;\">\n",
       "      <th></th>\n",
       "      <th>Date</th>\n",
       "      <th>Mean-value</th>\n",
       "      <th>Interest-rate</th>\n",
       "      <th>Month</th>\n",
       "      <th>Year</th>\n",
       "      <th>Quarter</th>\n",
       "      <th>Week-of-year</th>\n",
       "      <th>Week-of-month</th>\n",
       "      <th>Day-of-week</th>\n",
       "      <th>Day-of-year</th>\n",
       "      <th>election-year</th>\n",
       "      <th>kenya_reserves</th>\n",
       "      <th>Import-Cover-in-Months</th>\n",
       "      <th>US_election</th>\n",
       "    </tr>\n",
       "  </thead>\n",
       "  <tbody>\n",
       "    <tr>\n",
       "      <th>2070</th>\n",
       "      <td>1/17/2025</td>\n",
       "      <td>128.500950</td>\n",
       "      <td>4.21</td>\n",
       "      <td>1</td>\n",
       "      <td>2025</td>\n",
       "      <td>1</td>\n",
       "      <td>3</td>\n",
       "      <td>3</td>\n",
       "      <td>5</td>\n",
       "      <td>17</td>\n",
       "      <td>0</td>\n",
       "      <td>9143.0</td>\n",
       "      <td>4.7</td>\n",
       "      <td>0</td>\n",
       "    </tr>\n",
       "    <tr>\n",
       "      <th>2071</th>\n",
       "      <td>1/20/2025</td>\n",
       "      <td>128.353675</td>\n",
       "      <td>NaN</td>\n",
       "      <td>1</td>\n",
       "      <td>2025</td>\n",
       "      <td>1</td>\n",
       "      <td>4</td>\n",
       "      <td>4</td>\n",
       "      <td>1</td>\n",
       "      <td>20</td>\n",
       "      <td>0</td>\n",
       "      <td>9143.0</td>\n",
       "      <td>4.7</td>\n",
       "      <td>0</td>\n",
       "    </tr>\n",
       "    <tr>\n",
       "      <th>2072</th>\n",
       "      <td>1/21/2025</td>\n",
       "      <td>128.174825</td>\n",
       "      <td>4.21</td>\n",
       "      <td>1</td>\n",
       "      <td>2025</td>\n",
       "      <td>1</td>\n",
       "      <td>4</td>\n",
       "      <td>4</td>\n",
       "      <td>2</td>\n",
       "      <td>21</td>\n",
       "      <td>0</td>\n",
       "      <td>9143.0</td>\n",
       "      <td>4.7</td>\n",
       "      <td>0</td>\n",
       "    </tr>\n",
       "  </tbody>\n",
       "</table>\n",
       "</div>"
      ],
      "text/plain": [
       "           Date  Mean-value  Interest-rate  Month  Year  Quarter  \\\n",
       "2070  1/17/2025  128.500950           4.21      1  2025        1   \n",
       "2071  1/20/2025  128.353675            NaN      1  2025        1   \n",
       "2072  1/21/2025  128.174825           4.21      1  2025        1   \n",
       "\n",
       "      Week-of-year  Week-of-month  Day-of-week  Day-of-year  election-year  \\\n",
       "2070             3              3            5           17              0   \n",
       "2071             4              4            1           20              0   \n",
       "2072             4              4            2           21              0   \n",
       "\n",
       "      kenya_reserves  Import-Cover-in-Months  US_election  \n",
       "2070          9143.0                     4.7            0  \n",
       "2071          9143.0                     4.7            0  \n",
       "2072          9143.0                     4.7            0  "
      ]
     },
     "execution_count": 13,
     "metadata": {},
     "output_type": "execute_result"
    }
   ],
   "source": [
    "data.tail(3)"
   ]
  },
  {
   "cell_type": "markdown",
   "id": "f3025141-d89a-40a9-9c5a-15f4d5183e05",
   "metadata": {},
   "source": [
    "##### Missing Values"
   ]
  },
  {
   "cell_type": "code",
   "execution_count": 14,
   "id": "19e84495-7c6c-453a-b683-2132fb5a52d6",
   "metadata": {},
   "outputs": [],
   "source": [
    "df = data.dropna()"
   ]
  },
  {
   "cell_type": "code",
   "execution_count": 15,
   "id": "9c0af5d8-b184-4dd9-ad14-006dd0842815",
   "metadata": {},
   "outputs": [
    {
     "data": {
      "text/plain": [
       "(1987, 14)"
      ]
     },
     "execution_count": 15,
     "metadata": {},
     "output_type": "execute_result"
    }
   ],
   "source": [
    "df.shape"
   ]
  },
  {
   "cell_type": "code",
   "execution_count": 16,
   "id": "0a227748-aade-41ee-b55a-5fc17c0e81b4",
   "metadata": {},
   "outputs": [],
   "source": [
    "X = df.drop(columns = [\"Date\",\"Mean-value\", \"Year\",\"Import-Cover-in-Months\"], axis=1)\n",
    "y = df[\"Mean-value\"]"
   ]
  },
  {
   "cell_type": "code",
   "execution_count": 17,
   "id": "19678159-1a7a-4468-987a-d2a8dbd8f741",
   "metadata": {},
   "outputs": [],
   "source": [
    "X_train, X_test, y_train, y_test = train_test_split(X,y, test_size=0.25, random_state=42)"
   ]
  },
  {
   "cell_type": "code",
   "execution_count": 18,
   "id": "ef5c696e-9909-42f3-ad2b-6c85c8402386",
   "metadata": {},
   "outputs": [
    {
     "data": {
      "text/plain": [
       "((1490, 10), (497, 10), (1490,), (497,))"
      ]
     },
     "execution_count": 18,
     "metadata": {},
     "output_type": "execute_result"
    }
   ],
   "source": [
    "X_train.shape, X_test.shape, y_train.shape, y_test.shape"
   ]
  },
  {
   "cell_type": "code",
   "execution_count": 19,
   "id": "7d3f055b-5ce1-48e6-85ba-f218faaa6b87",
   "metadata": {},
   "outputs": [
    {
     "data": {
      "text/html": [
       "<div>\n",
       "<style scoped>\n",
       "    .dataframe tbody tr th:only-of-type {\n",
       "        vertical-align: middle;\n",
       "    }\n",
       "\n",
       "    .dataframe tbody tr th {\n",
       "        vertical-align: top;\n",
       "    }\n",
       "\n",
       "    .dataframe thead th {\n",
       "        text-align: right;\n",
       "    }\n",
       "</style>\n",
       "<table border=\"1\" class=\"dataframe\">\n",
       "  <thead>\n",
       "    <tr style=\"text-align: right;\">\n",
       "      <th></th>\n",
       "      <th>Interest-rate</th>\n",
       "      <th>Month</th>\n",
       "      <th>Quarter</th>\n",
       "      <th>Week-of-year</th>\n",
       "      <th>Week-of-month</th>\n",
       "      <th>Day-of-week</th>\n",
       "      <th>Day-of-year</th>\n",
       "      <th>election-year</th>\n",
       "      <th>kenya_reserves</th>\n",
       "      <th>US_election</th>\n",
       "    </tr>\n",
       "  </thead>\n",
       "  <tbody>\n",
       "    <tr>\n",
       "      <th>751</th>\n",
       "      <td>1.59</td>\n",
       "      <td>10</td>\n",
       "      <td>4</td>\n",
       "      <td>43</td>\n",
       "      <td>4</td>\n",
       "      <td>4</td>\n",
       "      <td>297</td>\n",
       "      <td>0</td>\n",
       "      <td>8925.0</td>\n",
       "      <td>0</td>\n",
       "    </tr>\n",
       "    <tr>\n",
       "      <th>193</th>\n",
       "      <td>1.22</td>\n",
       "      <td>7</td>\n",
       "      <td>3</td>\n",
       "      <td>29</td>\n",
       "      <td>4</td>\n",
       "      <td>4</td>\n",
       "      <td>201</td>\n",
       "      <td>1</td>\n",
       "      <td>7869.0</td>\n",
       "      <td>0</td>\n",
       "    </tr>\n",
       "  </tbody>\n",
       "</table>\n",
       "</div>"
      ],
      "text/plain": [
       "     Interest-rate  Month  Quarter  Week-of-year  Week-of-month  Day-of-week  \\\n",
       "751           1.59     10        4            43              4            4   \n",
       "193           1.22      7        3            29              4            4   \n",
       "\n",
       "     Day-of-year  election-year  kenya_reserves  US_election  \n",
       "751          297              0          8925.0            0  \n",
       "193          201              1          7869.0            0  "
      ]
     },
     "execution_count": 19,
     "metadata": {},
     "output_type": "execute_result"
    }
   ],
   "source": [
    "X_train.head(2)"
   ]
  },
  {
   "cell_type": "code",
   "execution_count": 20,
   "id": "d34797e5-4328-4b15-9ac4-716221e31260",
   "metadata": {},
   "outputs": [],
   "source": [
    "#Algorithms\n",
    "from sklearn.ensemble import RandomForestRegressor\n",
    "from sklearn.neighbors import KNeighborsRegressor\n",
    "from xgboost import XGBRegressor\n",
    "from sklearn.ensemble import GradientBoostingRegressor\n",
    "from lightgbm import LGBMRegressor"
   ]
  },
  {
   "cell_type": "code",
   "execution_count": 21,
   "id": "acc7bb1e-7057-4bee-a825-130193439699",
   "metadata": {},
   "outputs": [],
   "source": [
    "import os\n",
    "os.environ[\"LGBM_VERBOSITY\"] = \"-1\"\n",
    "algorithms = {\n",
    "    \"Random Forest\" : RandomForestRegressor(),\n",
    "    \"KNeighbors\" : KNeighborsRegressor(),\n",
    "    \"XGBoost\" : XGBRegressor(),\n",
    "    \"Gradient Boost Regressor\" : GradientBoostingRegressor(n_estimators=100, learning_rate=0.1, max_depth=3),\n",
    "    \"lightgbm\" : LGBMRegressor(n_estimators=100, learning_rate=0.1, max_depth=5, verbose = -1)    \n",
    "}"
   ]
  },
  {
   "cell_type": "code",
   "execution_count": 22,
   "id": "4c052597-064d-4541-9139-fc7ab2d7eac9",
   "metadata": {},
   "outputs": [
    {
     "name": "stdout",
     "output_type": "stream",
     "text": [
      "Random Forest: 99.7%\n",
      "KNeighbors: 89.36%\n",
      "XGBoost: 99.76%\n",
      "Gradient Boost Regressor: 98.64%\n",
      "lightgbm: 99.25%\n"
     ]
    }
   ],
   "source": [
    "for title, algorithm in algorithms.items():\n",
    "    algorithm.fit(X_train, y_train)\n",
    "    print(f\"{title}: {round(algorithm.score(X_test, y_test)*100,2)}%\")\n",
    "\n"
   ]
  },
  {
   "cell_type": "markdown",
   "id": "f6186ece-0655-4a98-93b2-72af16495680",
   "metadata": {},
   "source": [
    "##### 1.1 KNeighborsRegressor"
   ]
  },
  {
   "cell_type": "code",
   "execution_count": 16,
   "id": "bd051600-8921-49d5-a022-58606c27b4d7",
   "metadata": {},
   "outputs": [
    {
     "name": "stdout",
     "output_type": "stream",
     "text": [
      "0.8935748782790709\n"
     ]
    }
   ],
   "source": [
    "knb = KNeighborsRegressor()\n",
    "\n",
    "model_knb = knb.fit(X_train, y_train)\n",
    "\n",
    "print(model_knb.score(X_test, y_test))"
   ]
  },
  {
   "cell_type": "markdown",
   "id": "ac2f93a5-67e4-42ba-a38a-bf7b15aae09d",
   "metadata": {},
   "source": [
    "##### 2.1 RandomForest Regressor"
   ]
  },
  {
   "cell_type": "code",
   "execution_count": 23,
   "id": "10fb1f2f-2e69-49b2-9583-d88f197468c1",
   "metadata": {},
   "outputs": [
    {
     "name": "stdout",
     "output_type": "stream",
     "text": [
      "0.9972594546924234\n"
     ]
    }
   ],
   "source": [
    "rf = RandomForestRegressor()\n",
    "\n",
    "model_rf = rf.fit(X_train, y_train)\n",
    "\n",
    "print(model_rf.score(X_test, y_test))"
   ]
  },
  {
   "cell_type": "markdown",
   "id": "0988f6be-6aee-487d-a0f3-e12b5c4124dc",
   "metadata": {},
   "source": [
    "#### Model Save"
   ]
  },
  {
   "cell_type": "markdown",
   "id": "e17bd486-3da7-46f1-a2dc-fdfd1e5549cf",
   "metadata": {},
   "source": [
    "##### 1.2 Kneighbors"
   ]
  },
  {
   "cell_type": "code",
   "execution_count": 35,
   "id": "449dce62-9f6e-4e7f-9642-9cb0136761b6",
   "metadata": {},
   "outputs": [
    {
     "data": {
      "text/plain": [
       "['KNeighbors.pkl']"
      ]
     },
     "execution_count": 35,
     "metadata": {},
     "output_type": "execute_result"
    }
   ],
   "source": [
    "import joblib\n",
    "import os\n",
    "# Save the best model to a file\n",
    "joblib.dump(model_knb, \"KNeighbors.pkl\")"
   ]
  },
  {
   "cell_type": "markdown",
   "id": "dba5ec6c-adff-4ed1-9202-b056c07c1c05",
   "metadata": {},
   "source": [
    "##### 2.2 RandomForest Regressor Model"
   ]
  },
  {
   "cell_type": "code",
   "execution_count": 24,
   "id": "95e60e8d-2b5b-499e-a421-750afcb71f63",
   "metadata": {},
   "outputs": [
    {
     "data": {
      "text/plain": [
       "['randomforest.pkl']"
      ]
     },
     "execution_count": 24,
     "metadata": {},
     "output_type": "execute_result"
    }
   ],
   "source": [
    "import joblib\n",
    "import os\n",
    "# Save the best model to a file\n",
    "joblib.dump(model_rf, \"randomforest.pkl\")"
   ]
  },
  {
   "cell_type": "code",
   "execution_count": null,
   "id": "30538f39-5152-49e5-803e-f30abc161c4b",
   "metadata": {},
   "outputs": [],
   "source": []
  }
 ],
 "metadata": {
  "kernelspec": {
   "display_name": "Python 3 (ipykernel)",
   "language": "python",
   "name": "python3"
  },
  "language_info": {
   "codemirror_mode": {
    "name": "ipython",
    "version": 3
   },
   "file_extension": ".py",
   "mimetype": "text/x-python",
   "name": "python",
   "nbconvert_exporter": "python",
   "pygments_lexer": "ipython3",
   "version": "3.13.0"
  }
 },
 "nbformat": 4,
 "nbformat_minor": 5
}
