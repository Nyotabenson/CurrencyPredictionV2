{
 "cells": [
  {
   "cell_type": "code",
   "execution_count": null,
   "id": "e08f09d0-3506-494a-88f7-22fa6d8a005c",
   "metadata": {},
   "outputs": [],
   "source": []
  },
  {
   "cell_type": "code",
   "execution_count": 60,
   "id": "3b5473f2-165c-4f77-8909-755db6a93f9a",
   "metadata": {},
   "outputs": [
    {
     "name": "stdout",
     "output_type": "stream",
     "text": [
      "{'year': 2016, 'Month': 10, 'Quarter': 4, 'Week-of-year': 41, 'Day-of-year': 285, 'Week-of-month': 3, 'Day-of-week': 1}\n"
     ]
    }
   ],
   "source": [
    "import pandas as pd\n",
    "import math\n",
    "\n",
    "def extract_date_features(date_entry):\n",
    "    \"\"\"\n",
    "    Extracts year, month, quarter, week-of-year, day-of-year, week-of-month, \n",
    "    and day-of-week from a given date.\n",
    "\n",
    "    Parameters:\n",
    "    date_entry (str or datetime): A date entry in string format (YYYY-MM-DD) or a datetime object.\n",
    "\n",
    "    Returns:\n",
    "    dict: A dictionary with extracted date features.\n",
    "    \"\"\"\n",
    "    # Convert the input to a datetime object if it's a string\n",
    "    if isinstance(date_entry, str):\n",
    "        date_entry = pd.to_datetime(date_entry)\n",
    "    \n",
    "    # Calculate the week of the month\n",
    "    first_day_of_month = date_entry.replace(day=1)\n",
    "    week_of_month = math.ceil((date_entry.day + first_day_of_month.weekday()) / 7)\n",
    "\n",
    "    # Extract features\n",
    "    features = {\n",
    "        \"year\": date_entry.year,\n",
    "        \"Month\": date_entry.month,\n",
    "        \"Quarter\": (date_entry.month - 1) // 3 + 1,\n",
    "        \"Week-of-year\": date_entry.isocalendar()[1],\n",
    "        \"Day-of-year\": date_entry.timetuple().tm_yday,\n",
    "        \"Week-of-month\": week_of_month,\n",
    "        \"Day-of-week\": date_entry.weekday(),  # 0=Monday, 6=Sunday\n",
    "    }\n",
    "\n",
    "    return features\n",
    "\n",
    "# Example usage\n",
    "date = \"2016-10-11\"\n",
    "features = extract_date_features(date)\n",
    "print(features)\n"
   ]
  },
  {
   "cell_type": "code",
   "execution_count": 62,
   "id": "10bdb940-5e06-49e3-81ce-226d76d78244",
   "metadata": {},
   "outputs": [],
   "source": [
    "import pandas as pd\n",
    "input_data = pd.DataFrame([features])"
   ]
  },
  {
   "cell_type": "code",
   "execution_count": 64,
   "id": "01b65f16-c003-4006-89de-a0a2448b452b",
   "metadata": {},
   "outputs": [
    {
     "data": {
      "text/html": [
       "<div>\n",
       "<style scoped>\n",
       "    .dataframe tbody tr th:only-of-type {\n",
       "        vertical-align: middle;\n",
       "    }\n",
       "\n",
       "    .dataframe tbody tr th {\n",
       "        vertical-align: top;\n",
       "    }\n",
       "\n",
       "    .dataframe thead th {\n",
       "        text-align: right;\n",
       "    }\n",
       "</style>\n",
       "<table border=\"1\" class=\"dataframe\">\n",
       "  <thead>\n",
       "    <tr style=\"text-align: right;\">\n",
       "      <th></th>\n",
       "      <th>year</th>\n",
       "      <th>Month</th>\n",
       "      <th>Quarter</th>\n",
       "      <th>Week-of-year</th>\n",
       "      <th>Day-of-year</th>\n",
       "      <th>Week-of-month</th>\n",
       "      <th>Day-of-week</th>\n",
       "    </tr>\n",
       "  </thead>\n",
       "  <tbody>\n",
       "    <tr>\n",
       "      <th>0</th>\n",
       "      <td>2016</td>\n",
       "      <td>10</td>\n",
       "      <td>4</td>\n",
       "      <td>41</td>\n",
       "      <td>285</td>\n",
       "      <td>3</td>\n",
       "      <td>1</td>\n",
       "    </tr>\n",
       "  </tbody>\n",
       "</table>\n",
       "</div>"
      ],
      "text/plain": [
       "   year  Month  Quarter  Week-of-year  Day-of-year  Week-of-month  Day-of-week\n",
       "0  2016     10        4            41          285              3            1"
      ]
     },
     "execution_count": 64,
     "metadata": {},
     "output_type": "execute_result"
    }
   ],
   "source": [
    "input_data"
   ]
  },
  {
   "cell_type": "code",
   "execution_count": 66,
   "id": "e9898796-cde9-44a8-b53e-4caf1babad89",
   "metadata": {},
   "outputs": [
    {
     "name": "stdin",
     "output_type": "stream",
     "text": [
      "Interest rate 0.69\n"
     ]
    }
   ],
   "source": [
    "input_data['Interest-rate'] = float(input(\"Interest rate\"))\n"
   ]
  },
  {
   "cell_type": "code",
   "execution_count": 68,
   "id": "43e5b8c9-f5f4-4b6b-8d4e-ac7bbd24f3da",
   "metadata": {},
   "outputs": [
    {
     "name": "stdin",
     "output_type": "stream",
     "text": [
      "Election year 0\n"
     ]
    }
   ],
   "source": [
    "input_data['election-year'] = int(input(\"Election year\"))\n"
   ]
  },
  {
   "cell_type": "code",
   "execution_count": 70,
   "id": "de2e834e-9bde-4a6d-9f46-f87ac6878786",
   "metadata": {},
   "outputs": [
    {
     "name": "stdin",
     "output_type": "stream",
     "text": [
      "US Election 0\n"
     ]
    }
   ],
   "source": [
    "input_data['US_election'] = int(input(\"US Election\"))"
   ]
  },
  {
   "cell_type": "code",
   "execution_count": 72,
   "id": "eaf95036-782d-4e53-81ab-35cae18358f4",
   "metadata": {},
   "outputs": [],
   "source": [
    "input_data['kenya_reserves'] = 10441.5"
   ]
  },
  {
   "cell_type": "code",
   "execution_count": 74,
   "id": "d241c4cf-e8c8-4774-bc76-698e47ecb93b",
   "metadata": {},
   "outputs": [
    {
     "data": {
      "text/plain": [
       "(1, 11)"
      ]
     },
     "execution_count": 74,
     "metadata": {},
     "output_type": "execute_result"
    }
   ],
   "source": [
    "input_data.shape"
   ]
  },
  {
   "cell_type": "code",
   "execution_count": 76,
   "id": "5d381504-c983-47d5-9a9d-3d19c52cd149",
   "metadata": {},
   "outputs": [],
   "source": [
    "input_data = input_data[[\"Interest-rate\",\"Month\",\"Quarter\",\"Week-of-year\",\"Week-of-month\",\"Day-of-week\",\"Day-of-year\", \"election-year\", \"kenya_reserves\", \"US_election\"]]"
   ]
  },
  {
   "cell_type": "code",
   "execution_count": 78,
   "id": "b60859d8-b401-4780-98ad-ae9f4ea8be48",
   "metadata": {},
   "outputs": [
    {
     "data": {
      "text/html": [
       "<div>\n",
       "<style scoped>\n",
       "    .dataframe tbody tr th:only-of-type {\n",
       "        vertical-align: middle;\n",
       "    }\n",
       "\n",
       "    .dataframe tbody tr th {\n",
       "        vertical-align: top;\n",
       "    }\n",
       "\n",
       "    .dataframe thead th {\n",
       "        text-align: right;\n",
       "    }\n",
       "</style>\n",
       "<table border=\"1\" class=\"dataframe\">\n",
       "  <thead>\n",
       "    <tr style=\"text-align: right;\">\n",
       "      <th></th>\n",
       "      <th>Interest-rate</th>\n",
       "      <th>Month</th>\n",
       "      <th>Quarter</th>\n",
       "      <th>Week-of-year</th>\n",
       "      <th>Week-of-month</th>\n",
       "      <th>Day-of-week</th>\n",
       "      <th>Day-of-year</th>\n",
       "      <th>election-year</th>\n",
       "      <th>kenya_reserves</th>\n",
       "      <th>US_election</th>\n",
       "    </tr>\n",
       "  </thead>\n",
       "  <tbody>\n",
       "    <tr>\n",
       "      <th>0</th>\n",
       "      <td>0.69</td>\n",
       "      <td>10</td>\n",
       "      <td>4</td>\n",
       "      <td>41</td>\n",
       "      <td>3</td>\n",
       "      <td>1</td>\n",
       "      <td>285</td>\n",
       "      <td>0</td>\n",
       "      <td>10441.5</td>\n",
       "      <td>0</td>\n",
       "    </tr>\n",
       "  </tbody>\n",
       "</table>\n",
       "</div>"
      ],
      "text/plain": [
       "   Interest-rate  Month  Quarter  Week-of-year  Week-of-month  Day-of-week  \\\n",
       "0           0.69     10        4            41              3            1   \n",
       "\n",
       "   Day-of-year  election-year  kenya_reserves  US_election  \n",
       "0          285              0         10441.5            0  "
      ]
     },
     "execution_count": 78,
     "metadata": {},
     "output_type": "execute_result"
    }
   ],
   "source": [
    "input_data"
   ]
  },
  {
   "cell_type": "code",
   "execution_count": 80,
   "id": "1f7a7ac6-4d43-492f-98bf-5b83ff5bcbec",
   "metadata": {},
   "outputs": [],
   "source": [
    "import joblib\n",
    "model = joblib.load(\"KNeighbors.pkl\")"
   ]
  },
  {
   "cell_type": "code",
   "execution_count": 82,
   "id": "0dfa038a-b2b2-4263-94d3-ed96504c2549",
   "metadata": {},
   "outputs": [],
   "source": [
    "pred = model.predict(input_data)"
   ]
  },
  {
   "cell_type": "code",
   "execution_count": 84,
   "id": "14ed98e8-abfc-4b20-9d59-38a4d8dec06a",
   "metadata": {},
   "outputs": [
    {
     "data": {
      "text/plain": [
       "array([101.296])"
      ]
     },
     "execution_count": 84,
     "metadata": {},
     "output_type": "execute_result"
    }
   ],
   "source": [
    "pred"
   ]
  },
  {
   "cell_type": "code",
   "execution_count": null,
   "id": "ebb50c4f-369a-46d0-9cba-5980496022ff",
   "metadata": {},
   "outputs": [],
   "source": []
  }
 ],
 "metadata": {
  "kernelspec": {
   "display_name": "Python 3 (ipykernel)",
   "language": "python",
   "name": "python3"
  },
  "language_info": {
   "codemirror_mode": {
    "name": "ipython",
    "version": 3
   },
   "file_extension": ".py",
   "mimetype": "text/x-python",
   "name": "python",
   "nbconvert_exporter": "python",
   "pygments_lexer": "ipython3",
   "version": "3.12.7"
  }
 },
 "nbformat": 4,
 "nbformat_minor": 5
}
