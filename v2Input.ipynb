{
 "cells": [
  {
   "cell_type": "code",
   "execution_count": null,
   "id": "e08f09d0-3506-494a-88f7-22fa6d8a005c",
   "metadata": {},
   "outputs": [],
   "source": []
  },
  {
   "cell_type": "code",
   "execution_count": 2,
   "id": "3b5473f2-165c-4f77-8909-755db6a93f9a",
   "metadata": {},
   "outputs": [
    {
     "name": "stdout",
     "output_type": "stream",
     "text": [
      "{'year': 2025, 'Month': 3, 'Quarter': 1, 'Week-of-year': 11, 'Day-of-year': 74, 'Week-of-month': 3, 'Day-of-week': 5}\n"
     ]
    }
   ],
   "source": [
    "import pandas as pd\n",
    "import math\n",
    "\n",
    "def extract_date_features(date_entry):\n",
    "    \"\"\"\n",
    "    Extracts year, month, quarter, week-of-year, day-of-year, week-of-month, \n",
    "    and day-of-week from a given date.\n",
    "\n",
    "    Parameters:\n",
    "    date_entry (str or datetime): A date entry in string format (YYYY-MM-DD) or a datetime object.\n",
    "\n",
    "    Returns:\n",
    "    dict: A dictionary with extracted date features.\n",
    "    \"\"\"\n",
    "    # Convert the input to a datetime object if it's a string\n",
    "    if isinstance(date_entry, str):\n",
    "        date_entry = pd.to_datetime(date_entry)\n",
    "    \n",
    "    # Calculate the week of the month\n",
    "    first_day_of_month = date_entry.replace(day=1)\n",
    "    week_of_month = math.ceil((date_entry.day + first_day_of_month.weekday()) / 7)\n",
    "\n",
    "    # Extract features\n",
    "    features = {\n",
    "        \"year\": date_entry.year,\n",
    "        \"Month\": date_entry.month,\n",
    "        \"Quarter\": (date_entry.month - 1) // 3 + 1,\n",
    "        \"Week-of-year\": date_entry.isocalendar()[1],\n",
    "        \"Day-of-year\": date_entry.timetuple().tm_yday,\n",
    "        \"Week-of-month\": week_of_month,\n",
    "        \"Day-of-week\": date_entry.weekday(),  # 0=Monday, 6=Sunday\n",
    "    }\n",
    "\n",
    "    return features\n",
    "\n",
    "# Example usage\n",
    "date = \"2025-03-15\"\n",
    "features = extract_date_features(date)\n",
    "print(features)\n"
   ]
  },
  {
   "cell_type": "code",
   "execution_count": 3,
   "id": "10bdb940-5e06-49e3-81ce-226d76d78244",
   "metadata": {},
   "outputs": [],
   "source": [
    "import pandas as pd\n",
    "input_data = pd.DataFrame([features])"
   ]
  },
  {
   "cell_type": "code",
   "execution_count": 4,
   "id": "01b65f16-c003-4006-89de-a0a2448b452b",
   "metadata": {},
   "outputs": [
    {
     "data": {
      "text/html": [
       "<div>\n",
       "<style scoped>\n",
       "    .dataframe tbody tr th:only-of-type {\n",
       "        vertical-align: middle;\n",
       "    }\n",
       "\n",
       "    .dataframe tbody tr th {\n",
       "        vertical-align: top;\n",
       "    }\n",
       "\n",
       "    .dataframe thead th {\n",
       "        text-align: right;\n",
       "    }\n",
       "</style>\n",
       "<table border=\"1\" class=\"dataframe\">\n",
       "  <thead>\n",
       "    <tr style=\"text-align: right;\">\n",
       "      <th></th>\n",
       "      <th>year</th>\n",
       "      <th>Month</th>\n",
       "      <th>Quarter</th>\n",
       "      <th>Week-of-year</th>\n",
       "      <th>Day-of-year</th>\n",
       "      <th>Week-of-month</th>\n",
       "      <th>Day-of-week</th>\n",
       "    </tr>\n",
       "  </thead>\n",
       "  <tbody>\n",
       "    <tr>\n",
       "      <th>0</th>\n",
       "      <td>2025</td>\n",
       "      <td>3</td>\n",
       "      <td>1</td>\n",
       "      <td>11</td>\n",
       "      <td>74</td>\n",
       "      <td>3</td>\n",
       "      <td>5</td>\n",
       "    </tr>\n",
       "  </tbody>\n",
       "</table>\n",
       "</div>"
      ],
      "text/plain": [
       "   year  Month  Quarter  Week-of-year  Day-of-year  Week-of-month  Day-of-week\n",
       "0  2025      3        1            11           74              3            5"
      ]
     },
     "execution_count": 4,
     "metadata": {},
     "output_type": "execute_result"
    }
   ],
   "source": [
    "input_data"
   ]
  },
  {
   "cell_type": "code",
   "execution_count": 5,
   "id": "e9898796-cde9-44a8-b53e-4caf1babad89",
   "metadata": {},
   "outputs": [
    {
     "name": "stdin",
     "output_type": "stream",
     "text": [
      "Interest rate 4.15\n"
     ]
    }
   ],
   "source": [
    "input_data['Interest-rate'] = float(input(\"Interest rate\"))\n"
   ]
  },
  {
   "cell_type": "code",
   "execution_count": 6,
   "id": "43e5b8c9-f5f4-4b6b-8d4e-ac7bbd24f3da",
   "metadata": {},
   "outputs": [
    {
     "name": "stdin",
     "output_type": "stream",
     "text": [
      "Election year 0\n"
     ]
    }
   ],
   "source": [
    "\n",
    "input_data['election-year'] = int(input(\"Election year\"))\n"
   ]
  },
  {
   "cell_type": "code",
   "execution_count": 7,
   "id": "de2e834e-9bde-4a6d-9f46-f87ac6878786",
   "metadata": {},
   "outputs": [
    {
     "name": "stdin",
     "output_type": "stream",
     "text": [
      "US Election 0\n"
     ]
    }
   ],
   "source": [
    "input_data['US_election'] = int(input(\"US Election\"))"
   ]
  },
  {
   "cell_type": "code",
   "execution_count": 8,
   "id": "eaf95036-782d-4e53-81ab-35cae18358f4",
   "metadata": {},
   "outputs": [],
   "source": [
    "input_data['kenya_reserves'] = 9142"
   ]
  },
  {
   "cell_type": "code",
   "execution_count": 9,
   "id": "d241c4cf-e8c8-4774-bc76-698e47ecb93b",
   "metadata": {},
   "outputs": [
    {
     "data": {
      "text/plain": [
       "(1, 11)"
      ]
     },
     "execution_count": 9,
     "metadata": {},
     "output_type": "execute_result"
    }
   ],
   "source": [
    "input_data.shape"
   ]
  },
  {
   "cell_type": "code",
   "execution_count": 10,
   "id": "5d381504-c983-47d5-9a9d-3d19c52cd149",
   "metadata": {},
   "outputs": [],
   "source": [
    "input_data = input_data[[\"Interest-rate\",\"Month\",\"Quarter\",\"Week-of-year\",\"Week-of-month\",\"Day-of-week\",\"Day-of-year\", \"election-year\", \"kenya_reserves\", \"US_election\"]]"
   ]
  },
  {
   "cell_type": "code",
   "execution_count": 11,
   "id": "b60859d8-b401-4780-98ad-ae9f4ea8be48",
   "metadata": {},
   "outputs": [
    {
     "data": {
      "text/html": [
       "<div>\n",
       "<style scoped>\n",
       "    .dataframe tbody tr th:only-of-type {\n",
       "        vertical-align: middle;\n",
       "    }\n",
       "\n",
       "    .dataframe tbody tr th {\n",
       "        vertical-align: top;\n",
       "    }\n",
       "\n",
       "    .dataframe thead th {\n",
       "        text-align: right;\n",
       "    }\n",
       "</style>\n",
       "<table border=\"1\" class=\"dataframe\">\n",
       "  <thead>\n",
       "    <tr style=\"text-align: right;\">\n",
       "      <th></th>\n",
       "      <th>Interest-rate</th>\n",
       "      <th>Month</th>\n",
       "      <th>Quarter</th>\n",
       "      <th>Week-of-year</th>\n",
       "      <th>Week-of-month</th>\n",
       "      <th>Day-of-week</th>\n",
       "      <th>Day-of-year</th>\n",
       "      <th>election-year</th>\n",
       "      <th>kenya_reserves</th>\n",
       "      <th>US_election</th>\n",
       "    </tr>\n",
       "  </thead>\n",
       "  <tbody>\n",
       "    <tr>\n",
       "      <th>0</th>\n",
       "      <td>4.15</td>\n",
       "      <td>3</td>\n",
       "      <td>1</td>\n",
       "      <td>11</td>\n",
       "      <td>3</td>\n",
       "      <td>5</td>\n",
       "      <td>74</td>\n",
       "      <td>0</td>\n",
       "      <td>9142</td>\n",
       "      <td>0</td>\n",
       "    </tr>\n",
       "  </tbody>\n",
       "</table>\n",
       "</div>"
      ],
      "text/plain": [
       "   Interest-rate  Month  Quarter  Week-of-year  Week-of-month  Day-of-week  \\\n",
       "0           4.15      3        1            11              3            5   \n",
       "\n",
       "   Day-of-year  election-year  kenya_reserves  US_election  \n",
       "0           74              0            9142            0  "
      ]
     },
     "execution_count": 11,
     "metadata": {},
     "output_type": "execute_result"
    }
   ],
   "source": [
    "input_data"
   ]
  },
  {
   "cell_type": "code",
   "execution_count": 12,
   "id": "1f7a7ac6-4d43-492f-98bf-5b83ff5bcbec",
   "metadata": {},
   "outputs": [],
   "source": [
    "import joblib\n",
    "#kn_model = joblib.load(\"KNeighbors.pkl\")\n",
    "rf_model = joblib.load(\"randomforest.pkl\")"
   ]
  },
  {
   "cell_type": "code",
   "execution_count": 13,
   "id": "0dfa038a-b2b2-4263-94d3-ed96504c2549",
   "metadata": {},
   "outputs": [],
   "source": [
    "#kn_pred = kn_model.predict(input_data)\n",
    "rf_pred = rf_model.predict(input_data)"
   ]
  },
  {
   "cell_type": "code",
   "execution_count": 14,
   "id": "14ed98e8-abfc-4b20-9d59-38a4d8dec06a",
   "metadata": {},
   "outputs": [
    {
     "name": "stdout",
     "output_type": "stream",
     "text": [
      "RandomForest: [128.90218325]\n"
     ]
    }
   ],
   "source": [
    "#print(f\"KNeighbors: {kn_pred}\")\n",
    "print(f\"RandomForest: {rf_pred}\")"
   ]
  },
  {
   "cell_type": "code",
   "execution_count": null,
   "id": "ebb50c4f-369a-46d0-9cba-5980496022ff",
   "metadata": {},
   "outputs": [],
   "source": []
  }
 ],
 "metadata": {
  "kernelspec": {
   "display_name": "Python 3 (ipykernel)",
   "language": "python",
   "name": "python3"
  },
  "language_info": {
   "codemirror_mode": {
    "name": "ipython",
    "version": 3
   },
   "file_extension": ".py",
   "mimetype": "text/x-python",
   "name": "python",
   "nbconvert_exporter": "python",
   "pygments_lexer": "ipython3",
   "version": "3.13.0"
  }
 },
 "nbformat": 4,
 "nbformat_minor": 5
}
