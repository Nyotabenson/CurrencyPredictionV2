{
 "cells": [
  {
   "cell_type": "code",
   "execution_count": 2,
   "id": "4d2e6605-99ac-407e-8cea-fea6895bd279",
   "metadata": {},
   "outputs": [],
   "source": [
    "import pandas as pd\n",
    "import numpy as np\n",
    "import matplotlib.pyplot as plt\n",
    "\n",
    "from sklearn.model_selection import train_test_split"
   ]
  },
  {
   "cell_type": "code",
   "execution_count": 37,
   "id": "b0449c0e-7bd6-48b2-8d8a-7c212880ce25",
   "metadata": {},
   "outputs": [],
   "source": [
    "data = pd.read_csv(\"data.csv\")"
   ]
  },
  {
   "cell_type": "code",
   "execution_count": 39,
   "id": "5df3f745-073f-4f6d-b582-99def4e7836f",
   "metadata": {},
   "outputs": [
    {
     "data": {
      "text/html": [
       "<div>\n",
       "<style scoped>\n",
       "    .dataframe tbody tr th:only-of-type {\n",
       "        vertical-align: middle;\n",
       "    }\n",
       "\n",
       "    .dataframe tbody tr th {\n",
       "        vertical-align: top;\n",
       "    }\n",
       "\n",
       "    .dataframe thead th {\n",
       "        text-align: right;\n",
       "    }\n",
       "</style>\n",
       "<table border=\"1\" class=\"dataframe\">\n",
       "  <thead>\n",
       "    <tr style=\"text-align: right;\">\n",
       "      <th></th>\n",
       "      <th>Date</th>\n",
       "      <th>Mean-value</th>\n",
       "      <th>Interest-rate</th>\n",
       "      <th>Month</th>\n",
       "      <th>Year</th>\n",
       "      <th>Quarter</th>\n",
       "      <th>Week-of-year</th>\n",
       "      <th>Week-of-month</th>\n",
       "      <th>Day-of-week</th>\n",
       "      <th>Day-of-year</th>\n",
       "      <th>election-year</th>\n",
       "      <th>kenya_reserves</th>\n",
       "    </tr>\n",
       "  </thead>\n",
       "  <tbody>\n",
       "    <tr>\n",
       "      <th>0</th>\n",
       "      <td>10/11/2016</td>\n",
       "      <td>101.28</td>\n",
       "      <td>0.69</td>\n",
       "      <td>10</td>\n",
       "      <td>2016</td>\n",
       "      <td>4</td>\n",
       "      <td>42</td>\n",
       "      <td>3</td>\n",
       "      <td>2</td>\n",
       "      <td>285</td>\n",
       "      <td>0</td>\n",
       "      <td>10441.5</td>\n",
       "    </tr>\n",
       "    <tr>\n",
       "      <th>1</th>\n",
       "      <td>10/13/2016</td>\n",
       "      <td>101.30</td>\n",
       "      <td>0.66</td>\n",
       "      <td>10</td>\n",
       "      <td>2016</td>\n",
       "      <td>4</td>\n",
       "      <td>42</td>\n",
       "      <td>3</td>\n",
       "      <td>4</td>\n",
       "      <td>287</td>\n",
       "      <td>0</td>\n",
       "      <td>10441.5</td>\n",
       "    </tr>\n",
       "  </tbody>\n",
       "</table>\n",
       "</div>"
      ],
      "text/plain": [
       "         Date  Mean-value  Interest-rate  Month  Year  Quarter  Week-of-year  \\\n",
       "0  10/11/2016      101.28           0.69     10  2016        4            42   \n",
       "1  10/13/2016      101.30           0.66     10  2016        4            42   \n",
       "\n",
       "   Week-of-month  Day-of-week  Day-of-year  election-year  kenya_reserves  \n",
       "0              3            2          285              0         10441.5  \n",
       "1              3            4          287              0         10441.5  "
      ]
     },
     "execution_count": 39,
     "metadata": {},
     "output_type": "execute_result"
    }
   ],
   "source": [
    "data.head(2)"
   ]
  },
  {
   "cell_type": "code",
   "execution_count": 4,
   "id": "77c852e5-0602-47cf-8947-49ed52ec3c0e",
   "metadata": {},
   "outputs": [],
   "source": [
    "df = pd.read_csv(\"data2.csv\")"
   ]
  },
  {
   "cell_type": "code",
   "execution_count": 6,
   "id": "44632e7f-ba96-4e6d-8235-7cb1e605d0fe",
   "metadata": {},
   "outputs": [],
   "source": [
    "#adding the US year of election\n",
    "\n",
    "df[\"US_election\"] = np.where(df[\"Year\"].isin([2024, 2020, 2016]), 1, 0)"
   ]
  },
  {
   "cell_type": "code",
   "execution_count": 8,
   "id": "755aeb8d-8ee7-414e-b245-e3f0a9d0f983",
   "metadata": {},
   "outputs": [
    {
     "data": {
      "text/html": [
       "<div>\n",
       "<style scoped>\n",
       "    .dataframe tbody tr th:only-of-type {\n",
       "        vertical-align: middle;\n",
       "    }\n",
       "\n",
       "    .dataframe tbody tr th {\n",
       "        vertical-align: top;\n",
       "    }\n",
       "\n",
       "    .dataframe thead th {\n",
       "        text-align: right;\n",
       "    }\n",
       "</style>\n",
       "<table border=\"1\" class=\"dataframe\">\n",
       "  <thead>\n",
       "    <tr style=\"text-align: right;\">\n",
       "      <th></th>\n",
       "      <th>Mean-value</th>\n",
       "      <th>Interest-rate</th>\n",
       "      <th>Month</th>\n",
       "      <th>Year</th>\n",
       "      <th>Quarter</th>\n",
       "      <th>Week-of-year</th>\n",
       "      <th>Week-of-month</th>\n",
       "      <th>Day-of-week</th>\n",
       "      <th>Day-of-year</th>\n",
       "      <th>election-year</th>\n",
       "      <th>kenya_reserves</th>\n",
       "      <th>US_election</th>\n",
       "    </tr>\n",
       "  </thead>\n",
       "  <tbody>\n",
       "    <tr>\n",
       "      <th>0</th>\n",
       "      <td>101.28</td>\n",
       "      <td>0.69</td>\n",
       "      <td>10</td>\n",
       "      <td>2016</td>\n",
       "      <td>4</td>\n",
       "      <td>42</td>\n",
       "      <td>3</td>\n",
       "      <td>2</td>\n",
       "      <td>285</td>\n",
       "      <td>0</td>\n",
       "      <td>10441.5</td>\n",
       "      <td>1</td>\n",
       "    </tr>\n",
       "    <tr>\n",
       "      <th>1</th>\n",
       "      <td>101.30</td>\n",
       "      <td>0.66</td>\n",
       "      <td>10</td>\n",
       "      <td>2016</td>\n",
       "      <td>4</td>\n",
       "      <td>42</td>\n",
       "      <td>3</td>\n",
       "      <td>4</td>\n",
       "      <td>287</td>\n",
       "      <td>0</td>\n",
       "      <td>10441.5</td>\n",
       "      <td>1</td>\n",
       "    </tr>\n",
       "    <tr>\n",
       "      <th>2</th>\n",
       "      <td>101.30</td>\n",
       "      <td>0.65</td>\n",
       "      <td>10</td>\n",
       "      <td>2016</td>\n",
       "      <td>4</td>\n",
       "      <td>43</td>\n",
       "      <td>4</td>\n",
       "      <td>1</td>\n",
       "      <td>291</td>\n",
       "      <td>0</td>\n",
       "      <td>10441.5</td>\n",
       "      <td>1</td>\n",
       "    </tr>\n",
       "  </tbody>\n",
       "</table>\n",
       "</div>"
      ],
      "text/plain": [
       "   Mean-value  Interest-rate  Month  Year  Quarter  Week-of-year  \\\n",
       "0      101.28           0.69     10  2016        4            42   \n",
       "1      101.30           0.66     10  2016        4            42   \n",
       "2      101.30           0.65     10  2016        4            43   \n",
       "\n",
       "   Week-of-month  Day-of-week  Day-of-year  election-year  kenya_reserves  \\\n",
       "0              3            2          285              0         10441.5   \n",
       "1              3            4          287              0         10441.5   \n",
       "2              4            1          291              0         10441.5   \n",
       "\n",
       "   US_election  \n",
       "0            1  \n",
       "1            1  \n",
       "2            1  "
      ]
     },
     "execution_count": 8,
     "metadata": {},
     "output_type": "execute_result"
    }
   ],
   "source": [
    "df.head(3)"
   ]
  },
  {
   "cell_type": "code",
   "execution_count": 10,
   "id": "0a227748-aade-41ee-b55a-5fc17c0e81b4",
   "metadata": {},
   "outputs": [],
   "source": [
    "X = df.drop(columns = [\"Mean-value\", \"Year\"], axis=1)\n",
    "y = df[\"Mean-value\"]"
   ]
  },
  {
   "cell_type": "code",
   "execution_count": 12,
   "id": "19678159-1a7a-4468-987a-d2a8dbd8f741",
   "metadata": {},
   "outputs": [],
   "source": [
    "X_train, X_test, y_train, y_test = train_test_split(X,y, test_size=0.25, random_state=42)"
   ]
  },
  {
   "cell_type": "code",
   "execution_count": 14,
   "id": "ef5c696e-9909-42f3-ad2b-6c85c8402386",
   "metadata": {},
   "outputs": [
    {
     "data": {
      "text/plain": [
       "((1441, 10), (481, 10), (1441,), (481,))"
      ]
     },
     "execution_count": 14,
     "metadata": {},
     "output_type": "execute_result"
    }
   ],
   "source": [
    "X_train.shape, X_test.shape, y_train.shape, y_test.shape"
   ]
  },
  {
   "cell_type": "code",
   "execution_count": 16,
   "id": "7d3f055b-5ce1-48e6-85ba-f218faaa6b87",
   "metadata": {},
   "outputs": [
    {
     "data": {
      "text/html": [
       "<div>\n",
       "<style scoped>\n",
       "    .dataframe tbody tr th:only-of-type {\n",
       "        vertical-align: middle;\n",
       "    }\n",
       "\n",
       "    .dataframe tbody tr th {\n",
       "        vertical-align: top;\n",
       "    }\n",
       "\n",
       "    .dataframe thead th {\n",
       "        text-align: right;\n",
       "    }\n",
       "</style>\n",
       "<table border=\"1\" class=\"dataframe\">\n",
       "  <thead>\n",
       "    <tr style=\"text-align: right;\">\n",
       "      <th></th>\n",
       "      <th>Interest-rate</th>\n",
       "      <th>Month</th>\n",
       "      <th>Quarter</th>\n",
       "      <th>Week-of-year</th>\n",
       "      <th>Week-of-month</th>\n",
       "      <th>Day-of-week</th>\n",
       "      <th>Day-of-year</th>\n",
       "      <th>election-year</th>\n",
       "      <th>kenya_reserves</th>\n",
       "      <th>US_election</th>\n",
       "    </tr>\n",
       "  </thead>\n",
       "  <tbody>\n",
       "    <tr>\n",
       "      <th>810</th>\n",
       "      <td>0.15</td>\n",
       "      <td>4</td>\n",
       "      <td>2</td>\n",
       "      <td>14</td>\n",
       "      <td>1</td>\n",
       "      <td>5</td>\n",
       "      <td>94</td>\n",
       "      <td>0</td>\n",
       "      <td>12285.7</td>\n",
       "      <td>1</td>\n",
       "    </tr>\n",
       "    <tr>\n",
       "      <th>1634</th>\n",
       "      <td>5.37</td>\n",
       "      <td>8</td>\n",
       "      <td>3</td>\n",
       "      <td>35</td>\n",
       "      <td>5</td>\n",
       "      <td>4</td>\n",
       "      <td>243</td>\n",
       "      <td>0</td>\n",
       "      <td>13676.1</td>\n",
       "      <td>0</td>\n",
       "    </tr>\n",
       "  </tbody>\n",
       "</table>\n",
       "</div>"
      ],
      "text/plain": [
       "      Interest-rate  Month  Quarter  Week-of-year  Week-of-month  Day-of-week  \\\n",
       "810            0.15      4        2            14              1            5   \n",
       "1634           5.37      8        3            35              5            4   \n",
       "\n",
       "      Day-of-year  election-year  kenya_reserves  US_election  \n",
       "810            94              0         12285.7            1  \n",
       "1634          243              0         13676.1            0  "
      ]
     },
     "execution_count": 16,
     "metadata": {},
     "output_type": "execute_result"
    }
   ],
   "source": [
    "X_train.head(2)"
   ]
  },
  {
   "cell_type": "code",
   "execution_count": 18,
   "id": "d34797e5-4328-4b15-9ac4-716221e31260",
   "metadata": {},
   "outputs": [],
   "source": [
    "#Algorithms\n",
    "from sklearn.ensemble import RandomForestRegressor\n",
    "from sklearn.neighbors import KNeighborsRegressor\n",
    "from xgboost import XGBRegressor\n",
    "from sklearn.ensemble import GradientBoostingRegressor\n",
    "from lightgbm import LGBMRegressor"
   ]
  },
  {
   "cell_type": "code",
   "execution_count": 19,
   "id": "acc7bb1e-7057-4bee-a825-130193439699",
   "metadata": {},
   "outputs": [],
   "source": [
    "import os\n",
    "os.environ[\"LGBM_VERBOSITY\"] = \"-1\"\n",
    "algorithms = {\n",
    "    \"Random Forest\" : RandomForestRegressor(),\n",
    "    \"KNeighbors\" : KNeighborsRegressor(),\n",
    "    \"XGBoost\" : XGBRegressor(),\n",
    "    \"Gradient Boost Regressor\" : GradientBoostingRegressor(n_estimators=100, learning_rate=0.1, max_depth=3),\n",
    "    \"lightgbm\" : LGBMRegressor(n_estimators=100, learning_rate=0.1, max_depth=5, verbose = -1)    \n",
    "}"
   ]
  },
  {
   "cell_type": "code",
   "execution_count": 22,
   "id": "4c052597-064d-4541-9139-fc7ab2d7eac9",
   "metadata": {},
   "outputs": [
    {
     "name": "stdout",
     "output_type": "stream",
     "text": [
      "Random Forest: 99.22%\n",
      "KNeighbors: 99.83%\n",
      "XGBoost: 99.29%\n",
      "Gradient Boost Regressor: 99.28%\n",
      "lightgbm: 99.69%\n"
     ]
    }
   ],
   "source": [
    "for title, algorithm in algorithms.items():\n",
    "    algorithm.fit(X_train, y_train)\n",
    "    print(f\"{title}: {round(algorithm.score(X_test, y_test)*100,2)}%\")\n",
    "\n"
   ]
  },
  {
   "cell_type": "code",
   "execution_count": 29,
   "id": "bd051600-8921-49d5-a022-58606c27b4d7",
   "metadata": {},
   "outputs": [
    {
     "name": "stdout",
     "output_type": "stream",
     "text": [
      "0.9982749175581642\n"
     ]
    }
   ],
   "source": [
    "knb = KNeighborsRegressor()\n",
    "\n",
    "model_knb = knb.fit(X_train, y_train)\n",
    "\n",
    "print(model_knb.score(X_test, y_test))"
   ]
  },
  {
   "cell_type": "code",
   "execution_count": null,
   "id": "10fb1f2f-2e69-49b2-9583-d88f197468c1",
   "metadata": {},
   "outputs": [],
   "source": []
  },
  {
   "cell_type": "markdown",
   "id": "0988f6be-6aee-487d-a0f3-e12b5c4124dc",
   "metadata": {},
   "source": [
    "#### Model Save"
   ]
  },
  {
   "cell_type": "code",
   "execution_count": 35,
   "id": "449dce62-9f6e-4e7f-9642-9cb0136761b6",
   "metadata": {},
   "outputs": [
    {
     "data": {
      "text/plain": [
       "['KNeighbors.pkl']"
      ]
     },
     "execution_count": 35,
     "metadata": {},
     "output_type": "execute_result"
    }
   ],
   "source": [
    "import joblib\n",
    "import os\n",
    "# Save the best model to a file\n",
    "joblib.dump(model_knb, \"KNeighbors.pkl\")"
   ]
  },
  {
   "cell_type": "code",
   "execution_count": null,
   "id": "e7027b2d-79d3-4285-9c01-68dc38b4492f",
   "metadata": {},
   "outputs": [],
   "source": []
  }
 ],
 "metadata": {
  "kernelspec": {
   "display_name": "Python 3 (ipykernel)",
   "language": "python",
   "name": "python3"
  },
  "language_info": {
   "codemirror_mode": {
    "name": "ipython",
    "version": 3
   },
   "file_extension": ".py",
   "mimetype": "text/x-python",
   "name": "python",
   "nbconvert_exporter": "python",
   "pygments_lexer": "ipython3",
   "version": "3.12.7"
  }
 },
 "nbformat": 4,
 "nbformat_minor": 5
}
